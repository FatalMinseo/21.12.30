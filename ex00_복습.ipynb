{
 "cells": [
  {
   "cell_type": "code",
   "execution_count": 5,
   "id": "57b566d0",
   "metadata": {},
   "outputs": [],
   "source": [
    "# 리스트 생성\n",
    "list1 =[1,2,3,4,5]"
   ]
  },
  {
   "cell_type": "code",
   "execution_count": 2,
   "id": "21a6272b",
   "metadata": {},
   "outputs": [
    {
     "data": {
      "text/plain": [
       "2408084825920"
      ]
     },
     "execution_count": 2,
     "metadata": {},
     "output_type": "execute_result"
    }
   ],
   "source": [
    "# 리스트의 주소값 확인\n",
    "id(list1)"
   ]
  },
  {
   "cell_type": "code",
   "execution_count": 3,
   "id": "debc2a64",
   "metadata": {},
   "outputs": [],
   "source": [
    "# 리스트에 값 추가\n",
    "list1.append(6)"
   ]
  },
  {
   "cell_type": "code",
   "execution_count": 4,
   "id": "562f9a6a",
   "metadata": {},
   "outputs": [
    {
     "data": {
      "text/plain": [
       "2408084825920"
      ]
     },
     "execution_count": 4,
     "metadata": {},
     "output_type": "execute_result"
    }
   ],
   "source": [
    "# 리스트의 주소값 확인\n",
    "id(list1)"
   ]
  },
  {
   "cell_type": "code",
   "execution_count": 7,
   "id": "430ba06e",
   "metadata": {},
   "outputs": [
    {
     "data": {
      "text/plain": [
       "2408084805312"
      ]
     },
     "execution_count": 7,
     "metadata": {},
     "output_type": "execute_result"
    }
   ],
   "source": [
    "# 리스트에 새로운 값 할당\n",
    "list1=[1,2,3,4]\n",
    "id(list1)"
   ]
  },
  {
   "cell_type": "code",
   "execution_count": 8,
   "id": "3df173a8",
   "metadata": {},
   "outputs": [
    {
     "data": {
      "text/plain": [
       "2408084805312"
      ]
     },
     "execution_count": 8,
     "metadata": {},
     "output_type": "execute_result"
    }
   ],
   "source": [
    "list2=list1\n",
    "id(list2)"
   ]
  },
  {
   "cell_type": "code",
   "execution_count": 9,
   "id": "56a805f8",
   "metadata": {},
   "outputs": [
    {
     "data": {
      "text/plain": [
       "str"
      ]
     },
     "execution_count": 9,
     "metadata": {},
     "output_type": "execute_result"
    }
   ],
   "source": [
    "# 다른 주소로 값만 가져오기\n",
    "# .copy() : 값만 가져오고 주소는 복사해오지 않음"
   ]
  },
  {
   "cell_type": "markdown",
   "id": "5a85c82f",
   "metadata": {},
   "source": [
    "### 리스트"
   ]
  },
  {
   "cell_type": "code",
   "execution_count": 10,
   "id": "28a8e182",
   "metadata": {},
   "outputs": [],
   "source": [
    "# remove, insert, pop, append, count, len, reverse, sort, 인덱싱, 슬라이싱, index...\n",
    "# 인덱싱, 슬라이싱\n",
    "# append\n",
    "# remove"
   ]
  },
  {
   "cell_type": "code",
   "execution_count": 17,
   "id": "d8b3f069",
   "metadata": {},
   "outputs": [
    {
     "name": "stdout",
     "output_type": "stream",
     "text": [
      "[1, 2, 3, 4, 5, 6, 7, 8, 9, 10, 11, 12, 13, 14, 15, 16, 17, 18, 19, 20, 21, 22, 23, 24, 25, 26, 27, 28, 29, 30, 31, 32, 33, 34, 35, 36, 37, 38, 39, 40, 41, 42, 43, 44, 45, 46, 47, 48, 49, 50]\n"
     ]
    }
   ],
   "source": [
    "list1=[]\n",
    "for i in range(1,51):\n",
    "    list1.append(i)\n",
    "    \n",
    "print(list1)"
   ]
  },
  {
   "cell_type": "code",
   "execution_count": 21,
   "id": "ec00a452",
   "metadata": {},
   "outputs": [
    {
     "name": "stdout",
     "output_type": "stream",
     "text": [
      "range(1, 51)\n"
     ]
    }
   ],
   "source": [
    "list2=range(1,51)\n",
    "print(list2)"
   ]
  },
  {
   "cell_type": "code",
   "execution_count": 22,
   "id": "441cb50b",
   "metadata": {},
   "outputs": [],
   "source": [
    "# 인덱싱 슬라이싱\n",
    "# 대괄호 []\n",
    "# 10 출력하기\n",
    "# 15~25 출력"
   ]
  },
  {
   "cell_type": "code",
   "execution_count": 32,
   "id": "da1255eb",
   "metadata": {},
   "outputs": [
    {
     "name": "stdout",
     "output_type": "stream",
     "text": [
      "10\n",
      "[15, 16, 17, 18, 19, 20, 21, 22, 23, 24, 25]\n"
     ]
    }
   ],
   "source": [
    "print(list1[9])\n",
    "print(list1[14:25])"
   ]
  },
  {
   "cell_type": "markdown",
   "id": "e5844aae",
   "metadata": {},
   "source": [
    "### 딕셔너리\n",
    "- key, value로 이루어짐"
   ]
  },
  {
   "cell_type": "code",
   "execution_count": null,
   "id": "3e794874",
   "metadata": {},
   "outputs": [],
   "source": [
    "# dic_team 변수명을 사용해서 딕셔너리 만들기\n",
    "# 이름 나이 key 값 사용\n",
    "# 팀원들의 정보"
   ]
  },
  {
   "cell_type": "code",
   "execution_count": null,
   "id": "4a0797ee",
   "metadata": {},
   "outputs": [],
   "source": [
    "dic_team={\n",
    "    'name':[\"권우진\", \"김태경\",\"최종인\",\"최찬호\"], 'age':[24,23,29,31]\n",
    "}"
   ]
  },
  {
   "cell_type": "code",
   "execution_count": null,
   "id": "c2e21847",
   "metadata": {},
   "outputs": [],
   "source": [
    "# import pandas as pd\n",
    "# test_pd = pd.DataFrame(dic_team)"
   ]
  },
  {
   "cell_type": "code",
   "execution_count": null,
   "id": "cb478fd9",
   "metadata": {},
   "outputs": [],
   "source": [
    "# test_pd.to_csv(\"asdf.csv\".encoding ='cp949')"
   ]
  },
  {
   "cell_type": "code",
   "execution_count": null,
   "id": "217b9aa3",
   "metadata": {},
   "outputs": [],
   "source": []
  },
  {
   "cell_type": "code",
   "execution_count": null,
   "id": "cb81bdf0",
   "metadata": {},
   "outputs": [],
   "source": []
  },
  {
   "cell_type": "code",
   "execution_count": null,
   "id": "15872a59",
   "metadata": {},
   "outputs": [],
   "source": []
  }
 ],
 "metadata": {
  "kernelspec": {
   "display_name": "Python 3 (ipykernel)",
   "language": "python",
   "name": "python3"
  },
  "language_info": {
   "codemirror_mode": {
    "name": "ipython",
    "version": 3
   },
   "file_extension": ".py",
   "mimetype": "text/x-python",
   "name": "python",
   "nbconvert_exporter": "python",
   "pygments_lexer": "ipython3",
   "version": "3.9.7"
  }
 },
 "nbformat": 4,
 "nbformat_minor": 5
}
